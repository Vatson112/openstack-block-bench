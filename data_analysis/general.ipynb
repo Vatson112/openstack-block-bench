{
 "cells": [
  {
   "cell_type": "markdown",
   "metadata": {},
   "source": [
    "# Generate Basic plots\n",
    "## Requirements\n",
    "\n",
    "* Fio must have only one job\n",
    "* Fio output format must be json. Default for this repo.\n",
    " \n",
    "## Start with default variables"
   ]
  },
  {
   "cell_type": "code",
   "execution_count": 122,
   "metadata": {},
   "outputs": [],
   "source": [
    "# absolute path to raw results\n",
    "raw_results_dir = \"../results/rw\"\n",
    "raw_results_dir = \"../results/rw\"\n",
    "columns_for_df = [\n",
    "  \"iops\",\n",
    "  \"bw\",\n",
    "  \"lat_ns.max\",\n",
    "  \"lat_ns.mean\"\n",
    "]\n",
    "fig_size1x2 = (16, 5)"
   ]
  },
  {
   "cell_type": "code",
   "execution_count": 123,
   "metadata": {},
   "outputs": [],
   "source": [
    "import os, json\n",
    "import pandas as pd\n",
    "import matplotlib.pyplot as plt\n",
    "import numpy as np\n",
    "import matplotlib.ticker as tkr\n",
    "from pprint import pp"
   ]
  },
  {
   "cell_type": "code",
   "execution_count": 124,
   "metadata": {},
   "outputs": [],
   "source": [
    "def fmt_bytes_per_sec(x, pos):\n",
    "    if x<0:\n",
    "        return \"\"\n",
    "    for x_unit in ['B/s', 'kB/s', 'MB/s', 'GB/s', 'TB/s']:\n",
    "        if x < 1024.0:\n",
    "            return \"%3.1f %s\" % (x, x_unit)\n",
    "        x /= 1024.0\n",
    "\n",
    "def fmt_time(x, pos):\n",
    "    if x<0:\n",
    "        return \"\"\n",
    "    for x_unit in ['ns', 'µs', 'ms', 's']:\n",
    "        if x<1000.0:\n",
    "            return \"%3.1f %s\" % (x, x_unit)\n",
    "        x /= 1000.0\n"
   ]
  },
  {
   "cell_type": "code",
   "execution_count": 125,
   "metadata": {},
   "outputs": [],
   "source": [
    "def legend_without_duplicate_labels(ax):\n",
    "    handles, labels = ax.get_legend_handles_labels()\n",
    "    unique = [(h, l) for i, (h, l) in enumerate(zip(handles, labels)) if l not in labels[:i]]\n",
    "    ax.legend(*zip(*unique))"
   ]
  },
  {
   "cell_type": "code",
   "execution_count": 126,
   "metadata": {},
   "outputs": [],
   "source": [
    "# load all files in results dir into []{}\n",
    "\n",
    "json_files = [os.path.join(raw_results_dir, pos_json) for pos_json in os.listdir(raw_results_dir)]\n",
    "json_files.sort()\n",
    "json_stats_read = []\n",
    "json_stats_write = []\n",
    "\n",
    "\n",
    "for index, js in enumerate(json_files):\n",
    "  with open(js) as json_file:\n",
    "\n",
    "    json_val = json.load(json_file)\n",
    "    if json_val.get(\"client_stats\") != None:\n",
    "      json_stat = json_val.get(\"client_stats\")[0]\n",
    "    elif json_val.get(\"jobs\") != None:\n",
    "      json_stat = json_val.get(\"jobs\")[0]\n",
    "    else:\n",
    "      print(\"incorrect fio json file\")\n",
    "      exit(1)\n",
    "    json_stats_read.append(json_stat.get(\"read\"))\n",
    "    json_stats_write.append(json_stat.get(\"write\"))\n",
    "\n",
    "#clean unused variables\n",
    "del json_val\n",
    "del json_stat\n",
    "del json_file\n",
    "del json_files\n",
    "del index\n",
    "del js"
   ]
  },
  {
   "cell_type": "code",
   "execution_count": 127,
   "metadata": {},
   "outputs": [],
   "source": [
    "df_read = pd.DataFrame(pd.json_normalize(json_stats_read), columns=columns_for_df)\n",
    "df_write = pd.DataFrame(pd.json_normalize(json_stats_write), columns=columns_for_df)\n",
    "\n",
    "del json_stats_read\n",
    "del json_stats_write"
   ]
  },
  {
   "cell_type": "code",
   "execution_count": 128,
   "metadata": {},
   "outputs": [],
   "source": [
    "# move bandwitch to Bytes per sec\n",
    "# see https://fio.readthedocs.io/en/latest/fio_doc.html#json-output\n",
    "df_read.bw *= 1024\n",
    "df_write.bw *= 1024\n",
    "# move lat from ns to ms\n",
    "# df_read['lat_ns.max'] /= 1000000\n",
    "# df_read['lat_ns.mean'] /= 1000000\n",
    "# df_write['lat_ns.max'] /= 1000000\n",
    "# df_write['lat_ns.mean'] /= 1000000\n",
    "df_read.rename(columns={'lat_ns.max': 'lat_max', 'lat_ns.mean': 'lat_mean'}, inplace=True)\n",
    "df_write.rename(columns={'lat_ns.max': 'lat_max', 'lat_ns.mean': 'lat_mean'}, inplace=True)"
   ]
  },
  {
   "cell_type": "code",
   "execution_count": 129,
   "metadata": {},
   "outputs": [],
   "source": [
    "## this is example for one plot\n",
    "\n",
    "\n",
    "# fig, ax = plt.subplots()\n",
    "# ax.set_xlabel(\"VMs\")\n",
    "# ax.set_ylabel(\"IOPS\")\n",
    "# ax.set_title(\"IOPS: mean for all VMs\")\n",
    "# width = 0.4\n",
    "# ax.bar(x=df_read.index, width=width, height=df_read[\"iops\"],\n",
    "#         label = 'Read iops', color = 'royalblue')\n",
    "# ax.bar(x=df_write.index+width, width=width, height=df_write[\"iops\"],\n",
    "#         label = 'Write iops', color = 'gold')\n",
    "\n",
    "# ax.axhline(y=np.nanmean(df_read[[\"iops\"]]), linestyle='--',\n",
    "#             linewidth=2, label='Avg read iops', color = \"blue\")\n",
    "# ax.axhline(y=np.nanmean(df_write[[\"iops\"]]), linestyle='--',\n",
    "#             linewidth=2, label='Avg write iops', color = \"orange\")\n",
    "# plt.legend(loc='upper center', bbox_to_anchor=(0.5, -0.15),\n",
    "#           fancybox=True, shadow=True, ncol=5)\n",
    "# ax.xaxis.set_major_locator(tkr.MultipleLocator(1))\n",
    "# ax.xaxis.set_major_formatter(tkr.FormatStrFormatter('%d'))\n",
    "# plt.show()"
   ]
  },
  {
   "cell_type": "code",
   "execution_count": 130,
   "metadata": {},
   "outputs": [
    {
     "data": {
      "image/png": "[encoded data removed]",
      "text/plain": [
       "<Figure size 1600x500 with 1 Axes>"
      ]
     },
     "metadata": {},
     "output_type": "display_data"
    }
   ],
   "source": [
    "fig, ax = plt.subplots(1, 1, figsize=fig_size1x2)\n",
    "\n",
    "\n",
    "# common settings for plots\n",
    "width = 0.4\n",
    "#ax.set_xlabel(\"VMs\")\n",
    "ax.set_ylabel(\"IOPS\")\n",
    "ax.xaxis.set_major_locator(tkr.MultipleLocator(1))\n",
    "ax.xaxis.set_major_formatter(tkr.FormatStrFormatter('%d'))\n",
    "\n",
    "\n",
    "ax.set_title(\"IOPS\")\n",
    "ax.bar(x=df_read.index, width=width, height=df_read[\"iops\"],\n",
    "                label = 'Read iops', color = 'royalblue')\n",
    "ax.bar(x=df_write.index+width, width=width, height=df_write[\"iops\"],\n",
    "                label = 'Write iops', color = 'gold')\n",
    "\n",
    "# ax[0].axhline(y=np.nanmean(df_read[[\"iops\"]]), linestyle='--',\n",
    "#                 linewidth=2, label='Avg read iops', color = \"blue\")\n",
    "# ax[0].axhline(y=np.nanmean(df_write[[\"iops\"]]), linestyle='--',\n",
    "#                 linewidth=2, label='Avg write iops', color = \"orange\")\n",
    "\n",
    "\n",
    "\n",
    "# do uniq labels\n",
    "handles, labels = fig.gca().get_legend_handles_labels()\n",
    "by_label = dict(zip(labels, handles))\n",
    "fig.legend(handles=by_label.values(), labels=by_label.keys(), loc='upper center',\n",
    "                bbox_to_anchor=(0.5, -0.05), fancybox=True, shadow=True, ncol=5)\n",
    "\n",
    "plt.show()"
   ]
  },
  {
   "cell_type": "code",
   "execution_count": 131,
   "metadata": {},
   "outputs": [
    {
     "data": {
      "image/png": "[encoded data removed]",
      "text/plain": [
       "<Figure size 1600x500 with 1 Axes>"
      ]
     },
     "metadata": {},
     "output_type": "display_data"
    }
   ],
   "source": [
    "fig, ax = plt.subplots(1, 1, figsize=fig_size1x2)\n",
    "\n",
    "\n",
    "# common settings for plots\n",
    "width = 0.4\n",
    "\n",
    "#ax.set_xlabel(\"VMs\")\n",
    "ax.set_ylabel(\"Bandwitch\")\n",
    "ax.yaxis.set_major_formatter(tkr.FuncFormatter(fmt_bytes_per_sec))\n",
    "ax.xaxis.set_major_locator(tkr.MultipleLocator(1))\n",
    "ax.xaxis.set_major_formatter(tkr.FormatStrFormatter('%d'))\n",
    "ax.set_title(\"Bandwitch\")\n",
    "\n",
    "ax.bar(x=df_read.index, width=width, height=df_read[\"bw\"],\n",
    "                label = 'Read bw', color = 'royalblue')\n",
    "ax.bar(x=df_write.index+width, width=width, height=df_write[\"bw\"],\n",
    "                label = 'Write bw', color = 'gold')\n",
    "\n",
    "# ax[0].axhline(y=np.nanmean(df_read[[\"bw\"]]), linestyle='--',\n",
    "#                 linewidth=2, label='Avg read bw', color = \"blue\")\n",
    "# ax[0].axhline(y=np.nanmean(df_write[[\"bw\"]]), linestyle='--',\n",
    "#                 linewidth=2, label='Avg write bw', color = \"orange\")\n",
    "\n",
    "\n",
    "\n",
    "# do uniq labels\n",
    "handles, labels = fig.gca().get_legend_handles_labels()\n",
    "by_label = dict(zip(labels, handles))\n",
    "fig.legend(handles=by_label.values(), labels=by_label.keys(), loc='upper center',\n",
    "                bbox_to_anchor=(0.5, -0.05), fancybox=True, shadow=True, ncol=5)\n",
    "\n",
    "plt.show()"
   ]
  },
  {
   "cell_type": "code",
   "execution_count": 134,
   "metadata": {},
   "outputs": [
    {
     "data": {
      "image/png": "[encoded data removed]",
      "text/plain": [
       "<Figure size 1600x500 with 2 Axes>"
      ]
     },
     "metadata": {},
     "output_type": "display_data"
    }
   ],
   "source": [
    "fig, ax = plt.subplots(1, 2, figsize=fig_size1x2)\n",
    "\n",
    "fig.suptitle('VMs Latency')\n",
    "\n",
    "# common settings for plots\n",
    "width = 0.4\n",
    "for fax in ax:\n",
    "  #fax.set_xlabel(\"VMs\")\n",
    "  fax.set_ylabel(\"Latency\")\n",
    "  fax.yaxis.set_major_formatter(tkr.FuncFormatter(fmt_time))\n",
    "  fax.xaxis.set_major_locator(tkr.MultipleLocator(1))\n",
    "  fax.xaxis.set_major_formatter(tkr.FormatStrFormatter('%d'))\n",
    "\n",
    "\n",
    "ax[0].set_title(\"Latency\")\n",
    "ax[0].bar(x=df_read.index, width=width, height=df_read[\"lat_mean\"],\n",
    "                label = 'Read latency', color = 'royalblue')\n",
    "ax[0].bar(x=df_write.index+width, width=width, height=df_write[\"lat_mean\"],\n",
    "                label = 'Write latency', color = 'gold')\n",
    "\n",
    "# ax[0].axhline(y=np.nanmean(df_read[[\"lat_mean\"]]), linestyle='--',\n",
    "#                 linewidth=2, label='Avg read latency', color = \"blue\")\n",
    "# ax[0].axhline(y=np.nanmean(df_write[[\"lat_mean\"]]), linestyle='--',\n",
    "#                 linewidth=2, label='Avg write latency', color = \"orange\")\n",
    "\n",
    "\n",
    "\n",
    "ax[1].set_title(\"Max for all VMs\")\n",
    "ax[1].bar(x=df_read.index, width=width, height=df_read[\"lat_max\"],\n",
    "                label = 'Read latency', color = 'royalblue')\n",
    "ax[1].bar(x=df_write.index+width, width=width, height=df_write[\"lat_max\"],\n",
    "                label = 'Write latency', color = 'gold')\n",
    "\n",
    "# ax[1].axhline(y=np.nanmean(df_read[[\"lat_max\"]]), linestyle='--',\n",
    "#                 linewidth=2, label='Avg read latency', color = \"blue\")\n",
    "# ax[1].axhline(y=np.nanmean(df_write[[\"lat_max\"]]), linestyle='--',\n",
    "#                 linewidth=2, label='Avg write latency', color = \"orange\")\n",
    "\n",
    "# do uniq labels\n",
    "handles, labels = fig.gca().get_legend_handles_labels()\n",
    "by_label = dict(zip(labels, handles))\n",
    "fig.legend(handles=by_label.values(), labels=by_label.keys(), loc='upper center',\n",
    "                bbox_to_anchor=(0.5, -0.05), fancybox=True, shadow=True, ncol=5)\n",
    "\n",
    "plt.show()"
   ]
  },
  {
   "cell_type": "code",
   "execution_count": 133,
   "metadata": {},
   "outputs": [
    {
     "name": "stdout",
     "output_type": "stream",
     "text": [
      "{'read': {'iops_sum': 52691,\n",
      "          'bw_sum': '463.1 MB/s',\n",
      "          'lat_max_avg': '29.6 ms',\n",
      "          'lat_mean_avg': '598.7 µs'},\n",
      " 'write': {'iops_sum': 22583,\n",
      "           'bw_sum': '198.5 MB/s',\n",
      "           'lat_max_avg': '26.1 ms',\n",
      "           'lat_mean_avg': '362.8 µs'}}\n"
     ]
    }
   ],
   "source": [
    "result = {\n",
    "  'read': {\n",
    "    'iops_sum': round(df_read['iops'].sum()),\n",
    "    'bw_sum': fmt_bytes_per_sec(df_read['bw'].sum(), 0),\n",
    "    'lat_max_avg': fmt_time(df_read['lat_max'].mean(), 0),\n",
    "    'lat_mean_avg': fmt_time(df_read['lat_mean'].mean(), 0),\n",
    "  },\n",
    "  'write': {\n",
    "    'iops_sum': round(df_write['iops'].sum()),\n",
    "    'bw_sum': fmt_bytes_per_sec(df_write['bw'].sum(), 0),\n",
    "    'lat_max_avg': fmt_time(df_write['lat_max'].mean(), 0),\n",
    "    'lat_mean_avg': fmt_time(df_write['lat_mean'].mean(), 0),\n",
    "  }\n",
    "}\n",
    "\n",
    "pp(result)"
   ]
  },
  {
   "cell_type": "code",
   "execution_count": 152,
   "metadata": {},
   "outputs": [
    {
     "data": {
      "text/html": [
       "<div>\n",
       "<style scoped>\n",
       "    .dataframe tbody tr th:only-of-type {\n",
       "        vertical-align: middle;\n",
       "    }\n",
       "\n",
       "    .dataframe tbody tr th {\n",
       "        vertical-align: top;\n",
       "    }\n",
       "\n",
       "    .dataframe thead th {\n",
       "        text-align: right;\n",
       "    }\n",
       "</style>\n",
       "<table border=\"1\" class=\"dataframe\">\n",
       "  <thead>\n",
       "    <tr style=\"text-align: right;\">\n",
       "      <th></th>\n",
       "      <th>0</th>\n",
       "      <th>1</th>\n",
       "      <th>2</th>\n",
       "      <th>3</th>\n",
       "    </tr>\n",
       "  </thead>\n",
       "  <tbody>\n",
       "    <tr>\n",
       "      <th>0</th>\n",
       "      <td>0.0</td>\n",
       "      <td>0.0</td>\n",
       "      <td>0.0008</td>\n",
       "      <td>0.0004</td>\n",
       "    </tr>\n",
       "    <tr>\n",
       "      <th>1</th>\n",
       "      <td>0.0</td>\n",
       "      <td>0.0</td>\n",
       "      <td>0.0012</td>\n",
       "      <td>0.0006</td>\n",
       "    </tr>\n",
       "    <tr>\n",
       "      <th>2</th>\n",
       "      <td>0.0008</td>\n",
       "      <td>0.0012</td>\n",
       "      <td>0.0</td>\n",
       "      <td>0.0001</td>\n",
       "    </tr>\n",
       "    <tr>\n",
       "      <th>3</th>\n",
       "      <td>0.0004</td>\n",
       "      <td>0.0006</td>\n",
       "      <td>0.0001</td>\n",
       "      <td>0.0</td>\n",
       "    </tr>\n",
       "  </tbody>\n",
       "</table>\n",
       "</div>"
      ],
      "text/plain": [
       "        0       1       2       3\n",
       "0     0.0     0.0  0.0008  0.0004\n",
       "1     0.0     0.0  0.0012  0.0006\n",
       "2  0.0008  0.0012     0.0  0.0001\n",
       "3  0.0004  0.0006  0.0001     0.0"
      ]
     },
     "execution_count": 152,
     "metadata": {},
     "output_type": "execute_result"
    }
   ],
   "source": [
    "import scipy.stats as stats\n",
    "\n",
    "def calculate_pvalues(df):\n",
    "    dfcols = pd.DataFrame(columns=df.columns)\n",
    "    pvalues = dfcols.transpose().join(dfcols, how='outer')\n",
    "    for r in df.columns:\n",
    "        for c in df.columns:\n",
    "            tmp = df[df[r].notnull() & df[c].notnull()]\n",
    "            pvalues[r][c] = round(stats.pearsonr(tmp[r], tmp[c])[1], 4)\n",
    "    return pvalues\n",
    "\n",
    "calculate_pvalues(df_read.T)"
   ]
  },
  {
   "cell_type": "code",
   "execution_count": 159,
   "metadata": {},
   "outputs": [
    {
     "data": {
      "text/html": [
       "<div>\n",
       "<style scoped>\n",
       "    .dataframe tbody tr th:only-of-type {\n",
       "        vertical-align: middle;\n",
       "    }\n",
       "\n",
       "    .dataframe tbody tr th {\n",
       "        vertical-align: top;\n",
       "    }\n",
       "\n",
       "    .dataframe thead th {\n",
       "        text-align: right;\n",
       "    }\n",
       "</style>\n",
       "<table border=\"1\" class=\"dataframe\">\n",
       "  <thead>\n",
       "    <tr style=\"text-align: right;\">\n",
       "      <th></th>\n",
       "      <th>0</th>\n",
       "      <th>1</th>\n",
       "      <th>2</th>\n",
       "      <th>3</th>\n",
       "    </tr>\n",
       "  </thead>\n",
       "  <tbody>\n",
       "    <tr>\n",
       "      <th>0</th>\n",
       "      <td>1.0</td>\n",
       "      <td>0.9742</td>\n",
       "      <td>0.9986</td>\n",
       "      <td>0.9783</td>\n",
       "    </tr>\n",
       "    <tr>\n",
       "      <th>1</th>\n",
       "      <td>0.9742</td>\n",
       "      <td>1.0</td>\n",
       "      <td>0.9724</td>\n",
       "      <td>0.9956</td>\n",
       "    </tr>\n",
       "    <tr>\n",
       "      <th>2</th>\n",
       "      <td>0.9986</td>\n",
       "      <td>0.9724</td>\n",
       "      <td>1.0</td>\n",
       "      <td>0.9765</td>\n",
       "    </tr>\n",
       "    <tr>\n",
       "      <th>3</th>\n",
       "      <td>0.9783</td>\n",
       "      <td>0.9956</td>\n",
       "      <td>0.9765</td>\n",
       "      <td>1.0</td>\n",
       "    </tr>\n",
       "  </tbody>\n",
       "</table>\n",
       "</div>"
      ],
      "text/plain": [
       "        0       1       2       3\n",
       "0     1.0  0.9742  0.9986  0.9783\n",
       "1  0.9742     1.0  0.9724  0.9956\n",
       "2  0.9986  0.9724     1.0  0.9765\n",
       "3  0.9783  0.9956  0.9765     1.0"
      ]
     },
     "execution_count": 159,
     "metadata": {},
     "output_type": "execute_result"
    }
   ],
   "source": [
    "import scipy.stats as stats\n",
    "\n",
    "def calculate_pvalues(df):\n",
    "    dfcols = pd.DataFrame(columns=df.columns)\n",
    "    pvalues = dfcols.transpose().join(dfcols, how='outer')\n",
    "    for r in df.columns:\n",
    "        for c in df.columns:\n",
    "            tmp = df[df[r].notnull() & df[c].notnull()]\n",
    "            pvalues[r][c] = round(stats.ttest_ind(tmp[r], tmp[c])[1], 4)\n",
    "    return pvalues\n",
    "\n",
    "calculate_pvalues(df_read.T)"
   ]
  },
  {
   "cell_type": "code",
   "execution_count": null,
   "metadata": {},
   "outputs": [],
   "source": []
  }
 ],
 "metadata": {
  "kernelspec": {
   "display_name": ".venv",
   "language": "python",
   "name": "python3"
  },
  "language_info": {
   "codemirror_mode": {
    "name": "ipython",
    "version": 3
   },
   "file_extension": ".py",
   "mimetype": "text/x-python",
   "name": "python",
   "nbconvert_exporter": "python",
   "pygments_lexer": "ipython3",
   "version": "3.11.6"
  }
 },
 "nbformat": 4,
 "nbformat_minor": 2
}
